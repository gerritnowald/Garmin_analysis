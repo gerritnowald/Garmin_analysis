{
 "cells": [
  {
   "cell_type": "code",
   "execution_count": 1,
   "metadata": {},
   "outputs": [],
   "source": [
    "import glob\n",
    "import gpxpy\n",
    "import folium\n",
    "from scipy.interpolate import interp1d\n",
    "from matplotlib import colormaps"
   ]
  },
  {
   "cell_type": "code",
   "execution_count": 2,
   "metadata": {},
   "outputs": [],
   "source": [
    "files = glob.glob('.\\\\activities\\\\*.gpx')"
   ]
  },
  {
   "cell_type": "code",
   "execution_count": 3,
   "metadata": {},
   "outputs": [],
   "source": [
    "cmap = colormaps['Spectral']\n",
    "\n",
    "inter = interp1d([0,365], [0,1])\n",
    "\n",
    "feature_group = folium.FeatureGroup()\n",
    "\n",
    "for file in files:\n",
    "\n",
    "    with open(file, 'r') as gpx_file:\n",
    "        gpx = gpxpy.parse(gpx_file)\n",
    "\n",
    "    if gpx.tracks[0].type == 'cycling':\n",
    "    # if gpx.tracks[0].type == 'running':\n",
    "\n",
    "        try:\n",
    "            coordinates = []\n",
    "            for point in gpx.tracks[0].segments[0].points:\n",
    "                coordinates.append((point.latitude, point.longitude))\n",
    "            \n",
    "            rgb = cmap(inter(gpx.get_time_bounds()[0].timetuple().tm_yday))\n",
    "            rgb = tuple([round(255*x) for x in rgb[:-1]])\n",
    "            rgb = '#%02x%02x%02x' % rgb\n",
    "\n",
    "            folium.PolyLine(coordinates, weight=.5, color=rgb).add_to(feature_group)\n",
    "        except:\n",
    "            pass"
   ]
  },
  {
   "cell_type": "code",
   "execution_count": 4,
   "metadata": {},
   "outputs": [],
   "source": [
    "route_map = folium.Map(\n",
    "    location=[latitude, longitude],\n",
    "    zoom_start=12,\n",
    "    # tiles='CartoDBPositron',\n",
    "    # tiles='OpenStreetMap',\n",
    "    tiles='CartodbDarkMatterNoLabels',\n",
    ")\n",
    "\n",
    "feature_group.add_to(route_map)\n",
    "\n",
    "route_map"
   ]
  }
 ],
 "metadata": {
  "kernelspec": {
   "display_name": "Python 3",
   "language": "python",
   "name": "python3"
  },
  "language_info": {
   "codemirror_mode": {
    "name": "ipython",
    "version": 3
   },
   "file_extension": ".py",
   "mimetype": "text/x-python",
   "name": "python",
   "nbconvert_exporter": "python",
   "pygments_lexer": "ipython3",
   "version": "3.11.4"
  }
 },
 "nbformat": 4,
 "nbformat_minor": 2
}
